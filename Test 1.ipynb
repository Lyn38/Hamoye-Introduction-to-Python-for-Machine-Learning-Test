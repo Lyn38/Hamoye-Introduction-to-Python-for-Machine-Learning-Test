{
  "nbformat": 4,
  "nbformat_minor": 0,
  "metadata": {
    "colab": {
      "name": "Untitled0.ipynb",
      "provenance": [],
      "authorship_tag": "ABX9TyMjEOSAlBmkdu6LKqrYoXda",
      "include_colab_link": true
    },
    "kernelspec": {
      "name": "python3",
      "display_name": "Python 3"
    },
    "language_info": {
      "name": "python"
    }
  },
  "cells": [
    {
      "cell_type": "markdown",
      "metadata": {
        "id": "view-in-github",
        "colab_type": "text"
      },
      "source": [
        "<a href=\"https://colab.research.google.com/github/Lyn38/Hamoye-Introduction-to-Python-for-Machine-Learning-Test/blob/main/Test%201.ipynb\" target=\"_parent\"><img src=\"https://colab.research.google.com/assets/colab-badge.svg\" alt=\"Open In Colab\"/></a>"
      ]
    },
    {
      "cell_type": "code",
      "metadata": {
        "colab": {
          "base_uri": "https://localhost:8080/"
        },
        "id": "njXhcZtA32eL",
        "outputId": "e33e2dc9-b4e0-4aa6-e7ab-47b5d6b07f9c"
      },
      "source": [
        "import pandas as pd\n",
        "\n",
        "html_df= pd.read_csv(\"https://raw.githubusercontent.com/WalePhenomenon/climate_change/master/fuel_ferc1.csv?raw=true\")\n",
        "html_df.to_html('fuel_ferc1.csv')\n",
        "print(html_df.head())\n",
        "lowest_average_fuel_cost_per_unit_burned_mi = html_df.groupby(\"fuel_type_code_pudl\").mean() \n",
        "print(lowest_average_fuel_cost_per_unit_burned_mi)\n",
        "\n",
        "describe = html_df['fuel_mmbtu_per_unit'].describe()\n",
        "print(describe)\n",
        "\n",
        "skew = html_df.skew()\n",
        "kurt =html_df.kurtosis()\n",
        "print(skew)\n",
        "print(kurt)\n",
        "\n",
        "missing_value = html_df.isnull().sum()\n",
        "print(missing_value)\n",
        "pecental= missing_value.describe()\n",
        "print(pecental)\n",
        "\n",
        "max = html_df['fuel_cost_per_unit_burned'].mean()\n",
        "print(max)\n",
        "\n"
      ],
      "execution_count": 46,
      "outputs": [
        {
          "output_type": "stream",
          "text": [
            "                record_id  ...  fuel_cost_per_mmbtu\n",
            "0   f1_fuel_1994_12_1_0_7  ...                1.121\n",
            "1  f1_fuel_1994_12_1_0_10  ...                1.120\n",
            "2   f1_fuel_1994_12_2_0_1  ...                1.650\n",
            "3   f1_fuel_1994_12_2_0_7  ...                1.970\n",
            "4  f1_fuel_1994_12_2_0_10  ...                2.570\n",
            "\n",
            "[5 rows x 11 columns]\n",
            "                     utility_id_ferc1  ...  fuel_cost_per_mmbtu\n",
            "fuel_type_code_pudl                    ...                     \n",
            "coal                       115.637534  ...             1.787190\n",
            "gas                        124.122062  ...             5.408876\n",
            "nuclear                    107.397311  ...             1.716559\n",
            "oil                        113.236235  ...            12.698732\n",
            "other                      110.467066  ...           155.084910\n",
            "waste                      154.253968  ...           822.709937\n",
            "\n",
            "[6 rows x 7 columns]\n",
            "count    29523.000000\n",
            "mean         8.492111\n",
            "std         10.600220\n",
            "min          0.000001\n",
            "25%          1.024000\n",
            "50%          5.762694\n",
            "75%         17.006000\n",
            "max        341.260000\n",
            "Name: fuel_mmbtu_per_unit, dtype: float64\n",
            "utility_id_ferc1                  0.605070\n",
            "report_year                       0.006953\n",
            "fuel_qty_burned                  15.851495\n",
            "fuel_mmbtu_per_unit               4.135217\n",
            "fuel_cost_per_unit_burned        19.787440\n",
            "fuel_cost_per_unit_delivered    105.014227\n",
            "fuel_cost_per_mmbtu             171.675535\n",
            "dtype: float64\n",
            "utility_id_ferc1                    1.088432\n",
            "report_year                        -1.145656\n",
            "fuel_qty_burned                   651.369450\n",
            "fuel_mmbtu_per_unit                55.595695\n",
            "fuel_cost_per_unit_burned         485.255851\n",
            "fuel_cost_per_unit_delivered    11765.054226\n",
            "fuel_cost_per_mmbtu             29489.132594\n",
            "dtype: float64\n",
            "record_id                         0\n",
            "utility_id_ferc1                  0\n",
            "report_year                       0\n",
            "plant_name_ferc1                  0\n",
            "fuel_type_code_pudl               0\n",
            "fuel_unit                       180\n",
            "fuel_qty_burned                   0\n",
            "fuel_mmbtu_per_unit               0\n",
            "fuel_cost_per_unit_burned         0\n",
            "fuel_cost_per_unit_delivered      0\n",
            "fuel_cost_per_mmbtu               0\n",
            "dtype: int64\n",
            "count     11.000000\n",
            "mean      16.363636\n",
            "std       54.272042\n",
            "min        0.000000\n",
            "25%        0.000000\n",
            "50%        0.000000\n",
            "75%        0.000000\n",
            "max      180.000000\n",
            "dtype: float64\n",
            "208.64903102665716\n"
          ],
          "name": "stdout"
        }
      ]
    }
  ]
}